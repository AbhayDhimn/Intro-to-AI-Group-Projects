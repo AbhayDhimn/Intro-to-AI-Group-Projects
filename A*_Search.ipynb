{
 "cells": [
  {
   "cell_type": "markdown",
   "metadata": {},
   "source": [
    "Implementing/Creating the Maze"
   ]
  },
  {
   "cell_type": "code",
   "execution_count": 2,
   "metadata": {},
   "outputs": [],
   "source": [
    "import numpy as np\n",
    "import matplotlib.pyplot as plt"
   ]
  },
  {
   "cell_type": "code",
   "execution_count": 12,
   "metadata": {},
   "outputs": [],
   "source": [
    "def generate_maze(size, p_blocked=0.3):\n",
    "    maze = np.zeros((size, size), dtype=int)\n",
    "    stack = []\n",
    "    visited = set()\n",
    "    #choose a random cell and add it to stack\n",
    "    start_cell = (np.random.randint(size), np.random.randint(size))\n",
    "    stack.append(start_cell)\n",
    "\n",
    "    while stack:\n",
    "        #choose latest cell in stack and get coordinates; mark it as visited\n",
    "        current_cell = stack[-1]\n",
    "        x, y = current_cell\n",
    "        visited.add(current_cell)\n",
    "\n",
    "        #get the neighbors and find which are unvistited; save the unvisted in an array\n",
    "        neighbors = [(x + 1, y), (x - 1, y), (x, y + 1), (x, y - 1)]\n",
    "        unvisited_neighbors = [neighbor for neighbor in neighbors if 0 <= neighbor[0] < size and 0 <= neighbor[1] < size and neighbor not in visited]\n",
    "        if unvisited_neighbors:\n",
    "            #choose a random neighbor from unvistited neighbors array,label it as the next cell\n",
    "            Neighbor_size = len(unvisited_neighbors)\n",
    "            cellIndex = np.random.randint(0,Neighbor_size)\n",
    "            cellIndex = cellIndex-1\n",
    "            next_cell = unvisited_neighbors[cellIndex]\n",
    "            nx, ny = next_cell\n",
    "\n",
    "            #with a probability of the cell being blocked being 0.3, assign the next cell to be blocked or unblocked; add it to the stack\n",
    "            if np.random.rand() < p_blocked:\n",
    "                maze[nx, ny] = 1  # Blocked\n",
    "            else:\n",
    "                maze[nx, ny] = 0  # Unblocked\n",
    "\n",
    "            stack.append(next_cell)\n",
    "        # if there are no unvisited neighbors then dead end; pop the stack to backtrack to second latest and repeat process\n",
    "        else:\n",
    "            stack.pop()\n",
    "\n",
    "    return maze\n",
    "def visualize_maze(maze):\n",
    "    print(\"Blocked\" , np.sum(maze==1))\n",
    "    print(\"Unblocked\", np.sum(maze==0))\n",
    "    plt.imshow(maze, cmap='gray', interpolation='nearest')\n",
    "    plt.show()"
   ]
  },
  {
   "cell_type": "code",
   "execution_count": 13,
   "metadata": {},
   "outputs": [
    {
     "name": "stdout",
     "output_type": "stream",
     "text": [
      "Blocked 2995\n",
      "Unblocked 7206\n"
     ]
    },
    {
     "data": {
      "image/png": "[encoded data removed]",
      "text/plain": [
       "<Figure size 640x480 with 1 Axes>"
      ]
     },
     "metadata": {},
     "output_type": "display_data"
    }
   ],
   "source": [
    "num_environments = 1\n",
    "size = 101\n",
    "mazes = []\n",
    "for i in range(num_environments):\n",
    "    maze = generate_maze(size)\n",
    "    mazes.append(maze)\n",
    "    visualize_maze(maze)"
   ]
  },
  {
   "cell_type": "markdown",
   "metadata": {},
   "source": []
  },
  {
   "cell_type": "markdown",
   "metadata": {},
   "source": [
    "Part 1 - Understanding the Methods"
   ]
  },
  {
   "cell_type": "markdown",
   "metadata": {},
   "source": [
    "a) The first move of the robot would be to the left. In its intial herustic knowledge it does not know which cells are blocked and that the goal/destination cell is shortest to its left. That is why it would go left one cell first. Then it would try to go left one cell again but it would realize the next cell is blocked. It would make a new path to go around the blocked cell by going up, to the left twice and down but it would see the above cell is blocked as well and it would have to come up with a new path."
   ]
  },
  {
   "cell_type": "markdown",
   "metadata": {},
   "source": [
    "b) Due to the fact that it does not know which cells are blocked and that it intially assumes that none of the cells are blocked, the algorithm will find a path at every state with the new knowledge it gains about blocked cells at every state. In the case that the goal state is blocked from being reached, the algorithm will essentially traverse every state provided and try to find a path to the goal state. Once it has traversed every state and has realized that no path exists to the goal it will know that the goal is impossible to reach. This proves that if the goal is reachable no matter how complex the maze is, the algorthim will find it. If the goal is not reachable, the algorithm will realize this after traversing every state. Knwoing this, it can be proved that the number of moves to reach the goal or realize the goal is impossible to reach is upper bounded by the number of unblocked squares squared because in the case that the goal is impossible then the player would essentially traverse each unblocked cell twice. "
   ]
  },
  {
   "cell_type": "markdown",
   "metadata": {},
   "source": [
    "Part 2 - The Effects of Ties"
   ]
  },
  {
   "cell_type": "markdown",
   "metadata": {},
   "source": [
    "Part 3 - Forward vs Backward"
   ]
  },
  {
   "cell_type": "code",
   "execution_count": 8,
   "metadata": {},
   "outputs": [],
   "source": [
    "class Node:\n",
    "    def __init__(self, state, g_cost, h_cost):\n",
    "        self.state = state\n",
    "        self.g_cost = g_cost\n",
    "        self.h_cost = h_cost\n",
    "        self.f_cost = g_cost + h_cost\n",
    "        self.parent = None"
   ]
  },
  {
   "cell_type": "code",
   "execution_count": 6,
   "metadata": {},
   "outputs": [],
   "source": [
    "def getManhattan(current,target):\n",
    "    xDiff = abs(current.state[0]-target.state[0])\n",
    "    yDiff = abs(current.state[1]-target.state[1])\n",
    "    sum = xDiff+yDiff\n",
    "    return sum    "
   ]
  },
  {
   "cell_type": "code",
   "execution_count": 19,
   "metadata": {},
   "outputs": [
    {
     "name": "stdout",
     "output_type": "stream",
     "text": [
      "0\n",
      "0\n",
      "(31, 48)\n",
      "(15, 21)\n"
     ]
    }
   ],
   "source": [
    "while(True):\n",
    "    start_cell = (np.random.randint(101), np.random.randint(101))\n",
    "    x,y = start_cell\n",
    "    target_cell = (np.random.randint(101), np.random.randint(101))\n",
    "    z,w = target_cell\n",
    "    if((mazes[0][x,y] == 0) and (mazes[0][z,w]==0) and (x is not z) and (y is not w)):\n",
    "        break\n",
    "initialH = abs(start_cell[0]-target_cell[0])+abs(start_cell[1]-target_cell[1])\n",
    "Start = Node(start_cell,0,initialH)\n",
    "Target = Node(target_cell, float('inf'),0)"
   ]
  },
  {
   "cell_type": "code",
   "execution_count": null,
   "metadata": {},
   "outputs": [],
   "source": [
    "import heapq\n",
    "def getNeighbors(current,open,target):\n",
    "    x = current.state[0]\n",
    "    y = current.state[1]\n",
    "    if (mazes[0][x+1,y]==0):\n",
    "        Right = Node((x+1,y),current.g_cost+1,getManhattan(current,target))\n",
    "        heapq.heappush(open,Right.f_cost,Right)\n",
    "    if (mazes[0][x-1,y]==0):\n",
    "        Left = Node((x-1,y),current.g_cost+1,getManhattan(current,target))\n",
    "        heapq.heappush(open,Left.f_cost,Left)\n",
    "    if (mazes[0][x,y+1]==0):\n",
    "        Up = Node((x,y+1),current.g_cost+1,getManhattan(current,target))\n",
    "        heapq.heappush(open,Up.f_cost,Up)\n",
    "    if (mazes[0][x,y-1]==0):\n",
    "        Down = Node((x,y-1),current.g_cost+1,getManhattan(current,target))\n",
    "        heapq.heappush(open,Down.f_cost,Down)\n"
   ]
  },
  {
   "cell_type": "code",
   "execution_count": null,
   "metadata": {},
   "outputs": [],
   "source": [
    "def computePath(current, open, target):\n",
    "    getNeighbors(current,open,target)"
   ]
  },
  {
   "cell_type": "code",
   "execution_count": null,
   "metadata": {},
   "outputs": [],
   "source": [
    "import heapq\n",
    "open = []\n",
    "heapq.heappush(open,(Start.f_cost,Start))\n",
    "def forwardPath():\n",
    "    "
   ]
  }
 ],
 "metadata": {
  "kernelspec": {
   "display_name": "Python 3",
   "language": "python",
   "name": "python3"
  },
  "language_info": {
   "codemirror_mode": {
    "name": "ipython",
    "version": 3
   },
   "file_extension": ".py",
   "mimetype": "text/x-python",
   "name": "python",
   "nbconvert_exporter": "python",
   "pygments_lexer": "ipython3",
   "version": "3.11.4"
  }
 },
 "nbformat": 4,
 "nbformat_minor": 2
}
