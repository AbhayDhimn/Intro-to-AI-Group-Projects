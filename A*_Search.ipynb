{
 "cells": [
  {
   "cell_type": "markdown",
   "metadata": {},
   "source": [
    "Implementing/Creating the Maze"
   ]
  },
  {
   "cell_type": "code",
   "execution_count": 1,
   "metadata": {},
   "outputs": [],
   "source": [
    "import numpy as np\n",
    "import matplotlib.pyplot as plt"
   ]
  },
  {
   "cell_type": "code",
   "execution_count": 79,
   "metadata": {},
   "outputs": [],
   "source": [
    "def generate_maze(size, p_blocked=0.3):\n",
    "    maze = np.zeros((size, size), dtype=int)\n",
    "    stack = []\n",
    "    visited = set()\n",
    "    #choose a random cell and add it to stack\n",
    "    start_cell = (np.random.randint(size), np.random.randint(size))\n",
    "    stack.append(start_cell)\n",
    "\n",
    "    while stack:\n",
    "        #choose latest cell in stack and get coordinates; mark it as visited\n",
    "        current_cell = stack[-1]\n",
    "        x, y = current_cell\n",
    "        visited.add(current_cell)\n",
    "\n",
    "        #get the neighbors and find which are unvistited; save the unvisted in an array\n",
    "        neighbors = [(x + 1, y), (x - 1, y), (x, y + 1), (x, y - 1)]\n",
    "        unvisited_neighbors = [neighbor for neighbor in neighbors if 0 <= neighbor[0] < size and 0 <= neighbor[1] < size and neighbor not in visited]\n",
    "        if unvisited_neighbors:\n",
    "            #choose a random neighbor from unvistited neighbors array,label it as the next cell\n",
    "            Neighbor_size = len(unvisited_neighbors)\n",
    "            cellIndex = np.random.randint(0,Neighbor_size)\n",
    "            cellIndex = cellIndex-1\n",
    "            next_cell = unvisited_neighbors[cellIndex]\n",
    "            nx, ny = next_cell\n",
    "\n",
    "            #with a probability of the cell being blocked being 0.3, assign the next cell to be blocked or unblocked; add it to the stack\n",
    "            if np.random.rand() < p_blocked:\n",
    "                maze[nx, ny] = 1  # Blocked\n",
    "            else:\n",
    "                maze[nx, ny] = 0  # Unblocked\n",
    "\n",
    "            stack.append(next_cell)\n",
    "        # if there are no unvisited neighbors then dead end; pop the stack to backtrack to second latest and repeat process\n",
    "        else:\n",
    "            stack.pop()\n",
    "\n",
    "    return maze\n",
    "def visualize_maze(maze):\n",
    "    print(\"Blocked\" , np.sum(maze==1))\n",
    "    print(\"Unblocked\", np.sum(maze==0))\n",
    "    plt.imshow(maze, cmap='gray', interpolation='nearest')\n",
    "    plt.show()"
   ]
  },
  {
   "cell_type": "code",
   "execution_count": 80,
   "metadata": {},
   "outputs": [
    {
     "name": "stdout",
     "output_type": "stream",
     "text": [
      "Blocked 29\n",
      "Unblocked 71\n"
     ]
    },
    {
     "data": {
      "image/png": "[encoded data removed]",
      "text/plain": [
       "<Figure size 640x480 with 1 Axes>"
      ]
     },
     "metadata": {},
     "output_type": "display_data"
    }
   ],
   "source": [
    "num_environments = 1\n",
    "size = 10\n",
    "mazes = []\n",
    "for i in range(num_environments):\n",
    "    maze = generate_maze(size)\n",
    "    mazes.append(maze)\n",
    "    visualize_maze(maze)"
   ]
  },
  {
   "cell_type": "markdown",
   "metadata": {},
   "source": []
  },
  {
   "cell_type": "markdown",
   "metadata": {},
   "source": [
    "Part 1 - Understanding the Methods"
   ]
  },
  {
   "cell_type": "markdown",
   "metadata": {},
   "source": [
    "a) The first move of the robot would be to the left. In its intial herustic knowledge it does not know which cells are blocked and that the goal/destination cell is shortest to its left. That is why it would go left one cell first. Then it would try to go left one cell again but it would realize the next cell is blocked. It would make a new path to go around the blocked cell by going up, to the left twice and down but it would see the above cell is blocked as well and it would have to come up with a new path."
   ]
  },
  {
   "cell_type": "markdown",
   "metadata": {},
   "source": [
    "b) Due to the fact that it does not know which cells are blocked and that it intially assumes that none of the cells are blocked, the algorithm will find a path at every state with the new knowledge it gains about blocked cells at every state. In the case that the goal state is blocked from being reached, the algorithm will essentially traverse every state provided and try to find a path to the goal state. Once it has traversed every state and has realized that no path exists to the goal it will know that the goal is impossible to reach. This proves that if the goal is reachable no matter how complex the maze is, the algorthim will find it. If the goal is not reachable, the algorithm will realize this after traversing every state. Knwoing this, it can be proved that the number of moves to reach the goal or realize the goal is impossible to reach is upper bounded by the number of unblocked squares squared because in the case that the goal is impossible then the player would essentially traverse each unblocked cell twice. "
   ]
  },
  {
   "cell_type": "markdown",
   "metadata": {},
   "source": [
    "Part 2 - The Effects of Ties"
   ]
  },
  {
   "cell_type": "markdown",
   "metadata": {},
   "source": [
    "Part 3 - Forward vs Backward"
   ]
  },
  {
   "cell_type": "code",
   "execution_count": 81,
   "metadata": {},
   "outputs": [],
   "source": [
    "class Node:\n",
    "    def __init__(self, state, g_cost, h_cost):\n",
    "        self.state = state\n",
    "        self.g_cost = g_cost\n",
    "        self.h_cost = h_cost\n",
    "        self.f_cost = g_cost + h_cost\n",
    "        self.next = None\n",
    "    def __lt__(self, other):\n",
    "        return (self.f_cost) < (other.f_cost)\n",
    "\n",
    "    def __eq__(self, other):\n",
    "        return (self.f_cost) == (other.f_cost)\n",
    "\n",
    "    def __hash__(self):\n",
    "        return hash((self.state, self.g_cost, self.h_cost))"
   ]
  },
  {
   "cell_type": "code",
   "execution_count": 102,
   "metadata": {},
   "outputs": [],
   "source": [
    "def getManhattan(x,y,target):\n",
    "    xDiff = abs(x-target.state[0])\n",
    "    yDiff = abs(y-target.state[1])\n",
    "    sum = xDiff+yDiff\n",
    "    return sum    "
   ]
  },
  {
   "cell_type": "code",
   "execution_count": 103,
   "metadata": {},
   "outputs": [],
   "source": [
    "import heapq\n",
    "def getNeighbors(current,open,target, laze):\n",
    "    x = current.state[0]\n",
    "    y = current.state[1]\n",
    "    if (laze[x+1,y]==0):\n",
    "        Right = Node((x+1,y),current.g_cost+1,getManhattan(x+1,y,target))\n",
    "        heapq.heappush(open,(Right.f_cost,Right))\n",
    "    if (laze[x-1,y]==0):\n",
    "        Left = Node((x-1,y),current.g_cost+1,getManhattan(x-1,y,target))\n",
    "        heapq.heappush(open,(Left.f_cost,Left))\n",
    "    if (laze[x,y-1]==0):\n",
    "        Down = Node((x,y-1),current.g_cost+1,getManhattan(x,y-1,target))\n",
    "        heapq.heappush(open,(Down.f_cost,Down))\n",
    "    if (laze[x,y+1]==0):\n",
    "        Up = Node((x,y+1),current.g_cost+1,getManhattan(x,y+1,target))\n",
    "        heapq.heappush(open,(Up.f_cost,Up))\n",
    "    \n"
   ]
  },
  {
   "cell_type": "code",
   "execution_count": 212,
   "metadata": {},
   "outputs": [],
   "source": [
    "import random\n",
    "import heapq\n",
    "def chooseNext(open):\n",
    "    possibleNext = []\n",
    "    fcost, minnode = heapq.heappop(open)\n",
    "    print(open)\n",
    "    possibleNext.append((fcost,minnode))\n",
    "    print(possibleNext[0][1].state[0],possibleNext[0][1].state[1], possibleNext[0][1].g_cost)\n",
    "    while open and open[0][0] == fcost:\n",
    "        possibleNext.append(heapq.heappop(open))\n",
    "        print(possibleNext[-1][1])\n",
    "        print(possibleNext[-1][1].state[0],possibleNext[-1][1].state[1])\n",
    "    next = []\n",
    "    #next.append(possibleNext[0])\n",
    "    print(\"Not Doing something\")\n",
    "    #print(possibleNext)\n",
    "    print(\"Length:\", len(possibleNext))\n",
    "    max = 0\n",
    "    for i in range(len(possibleNext)):\n",
    "        print(\"DOING SOMETHING\")\n",
    "        #print(next[0][1].state[0],next[0][1].state[1])\n",
    "        print(possibleNext[i][1].state[0],possibleNext[i][1].state[1])\n",
    "        print(max)\n",
    "        if (possibleNext[i][1].g_cost) > max:\n",
    "            next.clear()\n",
    "            next.append(possibleNext[i])\n",
    "            max = possibleNext[i][1]\n",
    "            print(\"new max\")\n",
    "        if possibleNext[i][1].g_cost == max:\n",
    "            next.append(possibleNext[i])\n",
    "            print(\"same as max\")\n",
    "        else:\n",
    "            print(\"less than\")\n",
    "        print(next)\n",
    "    nextNode = random.choice(next)\n",
    "    possibleNext.remove(nextNode)\n",
    "    for node in possibleNext:\n",
    "        heapq.heappush(open,(node[0],node[1]))\n",
    "    return nextNode[1]\n",
    "\n",
    "\n",
    "\n"
   ]
  },
  {
   "cell_type": "code",
   "execution_count": 213,
   "metadata": {},
   "outputs": [],
   "source": [
    "import matplotlib.pyplot as plt\n",
    "def computePath(current, open, target,laze):\n",
    "    path = current\n",
    "    while(current.h_cost != 1):\n",
    "        getNeighbors(current,open,target,laze)\n",
    "        for nodes in open:\n",
    "            f, cell = nodes\n",
    "            print(f, cell.g_cost, cell.h_cost, cell.state[0], cell.state[1])\n",
    "        nextState = chooseNext(open)\n",
    "        print(nextState,nextState.f_cost, nextState.g_cost, nextState.h_cost, nextState.state[0], nextState.state[1])\n",
    "        current.next = nextState\n",
    "        current = nextState\n",
    "        x = current.state[0]\n",
    "        y = current.state[1]\n",
    "        laze[x,y] = 2\n",
    "        cmap = plt.cm.colors.ListedColormap(['black', 'white', 'red', 'green','blue'])\n",
    "        plt.imshow(laze, cmap=cmap, interpolation='nearest')\n",
    "        plt.show()\n",
    "    cmap = plt.cm.colors.ListedColormap(['black', 'white', 'red','green','blue'])\n",
    "    plt.imshow(laze, cmap=cmap, interpolation='nearest')\n",
    "    plt.show()\n",
    "    return path\n"
   ]
  },
  {
   "cell_type": "code",
   "execution_count": 93,
   "metadata": {},
   "outputs": [],
   "source": [
    "while(True):\n",
    "    start_cell = (np.random.randint(10), np.random.randint(10))\n",
    "    x,y = start_cell\n",
    "    target_cell = (np.random.randint(10), np.random.randint(10))\n",
    "    z,w = target_cell\n",
    "    if((mazes[0][x,y] == 0) and (mazes[0][z,w]==0) and (x is not z) and (y is not w)):\n",
    "        break\n",
    "initialH = abs(start_cell[0]-target_cell[0])+abs(start_cell[1]-target_cell[1])\n",
    "Start = Node(start_cell,0,initialH)\n",
    "Target = Node(target_cell, float('inf'),0)"
   ]
  },
  {
   "cell_type": "code",
   "execution_count": 214,
   "metadata": {},
   "outputs": [
    {
     "name": "stdout",
     "output_type": "stream",
     "text": [
      "2 8\n",
      "5 4\n",
      "7 0 7 2 8\n",
      "7 1 6 3 8\n",
      "9 1 8 1 8\n",
      "7 1 6 2 7\n",
      "9 1 8 2 9\n",
      "[(7, <__main__.Node object at 0x11aac64d0>), (7, <__main__.Node object at 0x11aac56d0>), (9, <__main__.Node object at 0x123c3d510>), (9, <__main__.Node object at 0x11aac47d0>)]\n",
      "2 8 0\n",
      "<__main__.Node object at 0x11aac64d0>\n",
      "3 8\n",
      "<__main__.Node object at 0x11aac56d0>\n",
      "2 7\n",
      "Not Doing something\n",
      "Length: 3\n",
      "DOING SOMETHING\n",
      "2 8\n",
      "0\n",
      "same as max\n",
      "[(7, <__main__.Node object at 0x12e08b010>)]\n",
      "DOING SOMETHING\n",
      "3 8\n",
      "0\n",
      "new max\n"
     ]
    },
    {
     "ename": "AttributeError",
     "evalue": "'int' object has no attribute 'f_cost'",
     "output_type": "error",
     "traceback": [
      "\u001b[0;31m---------------------------------------------------------------------------\u001b[0m",
      "\u001b[0;31mAttributeError\u001b[0m                            Traceback (most recent call last)",
      "Cell \u001b[0;32mIn[214], line 13\u001b[0m\n\u001b[1;32m     11\u001b[0m \u001b[38;5;28mprint\u001b[39m(x,y)\n\u001b[1;32m     12\u001b[0m \u001b[38;5;28mprint\u001b[39m(z,w)\n\u001b[0;32m---> 13\u001b[0m path \u001b[38;5;241m=\u001b[39m \u001b[43mcomputePath\u001b[49m\u001b[43m(\u001b[49m\u001b[43mStart\u001b[49m\u001b[43m,\u001b[49m\u001b[38;5;28;43mopen\u001b[39;49m\u001b[43m,\u001b[49m\u001b[43mTarget\u001b[49m\u001b[43m,\u001b[49m\u001b[43mlaze\u001b[49m\u001b[43m)\u001b[49m\n",
      "Cell \u001b[0;32mIn[213], line 9\u001b[0m, in \u001b[0;36mcomputePath\u001b[0;34m(current, open, target, laze)\u001b[0m\n\u001b[1;32m      7\u001b[0m     f, cell \u001b[38;5;241m=\u001b[39m nodes\n\u001b[1;32m      8\u001b[0m     \u001b[38;5;28mprint\u001b[39m(f, cell\u001b[38;5;241m.\u001b[39mg_cost, cell\u001b[38;5;241m.\u001b[39mh_cost, cell\u001b[38;5;241m.\u001b[39mstate[\u001b[38;5;241m0\u001b[39m], cell\u001b[38;5;241m.\u001b[39mstate[\u001b[38;5;241m1\u001b[39m])\n\u001b[0;32m----> 9\u001b[0m nextState \u001b[38;5;241m=\u001b[39m \u001b[43mchooseNext\u001b[49m\u001b[43m(\u001b[49m\u001b[38;5;28;43mopen\u001b[39;49m\u001b[43m)\u001b[49m\n\u001b[1;32m     10\u001b[0m \u001b[38;5;28mprint\u001b[39m(nextState,nextState\u001b[38;5;241m.\u001b[39mf_cost, nextState\u001b[38;5;241m.\u001b[39mg_cost, nextState\u001b[38;5;241m.\u001b[39mh_cost, nextState\u001b[38;5;241m.\u001b[39mstate[\u001b[38;5;241m0\u001b[39m], nextState\u001b[38;5;241m.\u001b[39mstate[\u001b[38;5;241m1\u001b[39m])\n\u001b[1;32m     11\u001b[0m current\u001b[38;5;241m.\u001b[39mnext \u001b[38;5;241m=\u001b[39m nextState\n",
      "Cell \u001b[0;32mIn[212], line 29\u001b[0m, in \u001b[0;36mchooseNext\u001b[0;34m(open)\u001b[0m\n\u001b[1;32m     27\u001b[0m     \u001b[38;5;28mmax\u001b[39m \u001b[38;5;241m=\u001b[39m possibleNext[i][\u001b[38;5;241m1\u001b[39m]\n\u001b[1;32m     28\u001b[0m     \u001b[38;5;28mprint\u001b[39m(\u001b[38;5;124m\"\u001b[39m\u001b[38;5;124mnew max\u001b[39m\u001b[38;5;124m\"\u001b[39m)\n\u001b[0;32m---> 29\u001b[0m \u001b[38;5;28;01mif\u001b[39;00m \u001b[43mpossibleNext\u001b[49m\u001b[43m[\u001b[49m\u001b[43mi\u001b[49m\u001b[43m]\u001b[49m\u001b[43m[\u001b[49m\u001b[38;5;241;43m1\u001b[39;49m\u001b[43m]\u001b[49m\u001b[38;5;241;43m.\u001b[39;49m\u001b[43mg_cost\u001b[49m\u001b[43m \u001b[49m\u001b[38;5;241;43m==\u001b[39;49m\u001b[43m \u001b[49m\u001b[38;5;28;43mmax\u001b[39;49m:\n\u001b[1;32m     30\u001b[0m     \u001b[38;5;28mnext\u001b[39m\u001b[38;5;241m.\u001b[39mappend(possibleNext[i])\n\u001b[1;32m     31\u001b[0m     \u001b[38;5;28mprint\u001b[39m(\u001b[38;5;124m\"\u001b[39m\u001b[38;5;124msame as max\u001b[39m\u001b[38;5;124m\"\u001b[39m)\n",
      "Cell \u001b[0;32mIn[81], line 12\u001b[0m, in \u001b[0;36mNode.__eq__\u001b[0;34m(self, other)\u001b[0m\n\u001b[1;32m     11\u001b[0m \u001b[38;5;28;01mdef\u001b[39;00m \u001b[38;5;21m__eq__\u001b[39m(\u001b[38;5;28mself\u001b[39m, other):\n\u001b[0;32m---> 12\u001b[0m     \u001b[38;5;28;01mreturn\u001b[39;00m (\u001b[38;5;28mself\u001b[39m\u001b[38;5;241m.\u001b[39mf_cost) \u001b[38;5;241m==\u001b[39m (\u001b[43mother\u001b[49m\u001b[38;5;241;43m.\u001b[39;49m\u001b[43mf_cost\u001b[49m)\n",
      "\u001b[0;31mAttributeError\u001b[0m: 'int' object has no attribute 'f_cost'"
     ]
    }
   ],
   "source": [
    "import heapq\n",
    "open = []\n",
    "heapq.heappush(open,(Start.f_cost,Start))\n",
    "laze = np.zeros((10, 10), dtype=int)\n",
    "x = Start.state[0]\n",
    "y = Start.state[1]\n",
    "z = Target.state[0]\n",
    "w = Target.state[1]\n",
    "laze[x,y] = 3\n",
    "laze[z,w] = 4\n",
    "print(x,y)\n",
    "print(z,w)\n",
    "path = computePath(Start,open,Target,laze)\n"
   ]
  }
 ],
 "metadata": {
  "kernelspec": {
   "display_name": "Python 3",
   "language": "python",
   "name": "python3"
  },
  "language_info": {
   "codemirror_mode": {
    "name": "ipython",
    "version": 3
   },
   "file_extension": ".py",
   "mimetype": "text/x-python",
   "name": "python",
   "nbconvert_exporter": "python",
   "pygments_lexer": "ipython3",
   "version": "3.11.4"
  }
 },
 "nbformat": 4,
 "nbformat_minor": 2
}
